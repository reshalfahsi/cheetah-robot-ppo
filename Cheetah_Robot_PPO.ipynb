{
  "cells": [
    {
      "cell_type": "markdown",
      "metadata": {
        "id": "view-in-github",
        "colab_type": "text"
      },
      "source": [
        "<a href=\"https://colab.research.google.com/github/reshalfahsi/cheetah-robot-ppo/blob/master/Cheetah_Robot_PPO.ipynb\" target=\"_parent\"><img src=\"https://colab.research.google.com/assets/colab-badge.svg\" alt=\"Open In Colab\"/></a>"
      ]
    },
    {
      "cell_type": "markdown",
      "metadata": {
        "id": "3YHSKwosogpR"
      },
      "source": [
        "# **Teaching a Cheetah Robot to Run: Solving Continuous Control in Simulated Locomotion with Proximal Policy Optimization**"
      ]
    },
    {
      "cell_type": "markdown",
      "metadata": {
        "id": "h7VKvgh1ojpm"
      },
      "source": [
        "## **Important Libraries**"
      ]
    },
    {
      "cell_type": "markdown",
      "metadata": {
        "id": "KnC4ATcuoj-R"
      },
      "source": [
        "### **Install**"
      ]
    },
    {
      "cell_type": "code",
      "execution_count": 2,
      "metadata": {
        "colab": {
          "base_uri": "https://localhost:8080/"
        },
        "id": "-FqI54NoZ_5u",
        "outputId": "1f2e2252-62e0-401a-c066-c8bcac83c5d1"
      },
      "outputs": [
        {
          "output_type": "stream",
          "name": "stdout",
          "text": [
            "44 packages can be upgraded. Run 'apt list --upgradable' to see them.\n",
            "\u001b[1;33mW: \u001b[0mSkipping acquire of configured file 'main/source/Sources' as repository 'https://r2u.stat.illinois.edu/ubuntu jammy InRelease' does not seem to provide it (sources.list entry misspelt?)\u001b[0m\n",
            "The following additional packages will be installed:\n",
            "  libegl-dev libgl-dev libgles-dev libgles1 libglvnd-core-dev libglvnd-dev libglx-dev libopengl-dev\n",
            "Suggested packages:\n",
            "  libosmesa6 libvulkan1\n",
            "The following NEW packages will be installed:\n",
            "  libegl-dev libgl-dev libgl1-mesa-dev libgles-dev libgles1 libglfw3 libglvnd-core-dev libglvnd-dev\n",
            "  libglx-dev libopengl-dev\n",
            "0 upgraded, 10 newly installed, 0 to remove and 44 not upgraded.\n",
            "Need to get 304 kB of archives.\n",
            "After this operation, 2,890 kB of additional disk space will be used.\n",
            "Selecting previously unselected package libglx-dev:amd64.\n",
            "(Reading database ... 126213 files and directories currently installed.)\n",
            "Preparing to unpack .../0-libglx-dev_1.4.0-1_amd64.deb ...\n",
            "Unpacking libglx-dev:amd64 (1.4.0-1) ...\n",
            "Selecting previously unselected package libgl-dev:amd64.\n",
            "Preparing to unpack .../1-libgl-dev_1.4.0-1_amd64.deb ...\n",
            "Unpacking libgl-dev:amd64 (1.4.0-1) ...\n",
            "Selecting previously unselected package libegl-dev:amd64.\n",
            "Preparing to unpack .../2-libegl-dev_1.4.0-1_amd64.deb ...\n",
            "Unpacking libegl-dev:amd64 (1.4.0-1) ...\n",
            "Selecting previously unselected package libgles1:amd64.\n",
            "Preparing to unpack .../3-libgles1_1.4.0-1_amd64.deb ...\n",
            "Unpacking libgles1:amd64 (1.4.0-1) ...\n",
            "Selecting previously unselected package libgles-dev:amd64.\n",
            "Preparing to unpack .../4-libgles-dev_1.4.0-1_amd64.deb ...\n",
            "Unpacking libgles-dev:amd64 (1.4.0-1) ...\n",
            "Selecting previously unselected package libglfw3:amd64.\n",
            "Preparing to unpack .../5-libglfw3_3.3.6-1_amd64.deb ...\n",
            "Unpacking libglfw3:amd64 (3.3.6-1) ...\n",
            "Selecting previously unselected package libopengl-dev:amd64.\n",
            "Preparing to unpack .../6-libopengl-dev_1.4.0-1_amd64.deb ...\n",
            "Unpacking libopengl-dev:amd64 (1.4.0-1) ...\n",
            "Selecting previously unselected package libglvnd-core-dev:amd64.\n",
            "Preparing to unpack .../7-libglvnd-core-dev_1.4.0-1_amd64.deb ...\n",
            "Unpacking libglvnd-core-dev:amd64 (1.4.0-1) ...\n",
            "Selecting previously unselected package libglvnd-dev:amd64.\n",
            "Preparing to unpack .../8-libglvnd-dev_1.4.0-1_amd64.deb ...\n",
            "Unpacking libglvnd-dev:amd64 (1.4.0-1) ...\n",
            "Selecting previously unselected package libgl1-mesa-dev:amd64.\n",
            "Preparing to unpack .../9-libgl1-mesa-dev_23.2.1-1ubuntu3.1~22.04.3_amd64.deb ...\n",
            "Unpacking libgl1-mesa-dev:amd64 (23.2.1-1ubuntu3.1~22.04.3) ...\n",
            "Setting up libglfw3:amd64 (3.3.6-1) ...\n",
            "Setting up libglvnd-core-dev:amd64 (1.4.0-1) ...\n",
            "Setting up libgles1:amd64 (1.4.0-1) ...\n",
            "Setting up libglx-dev:amd64 (1.4.0-1) ...\n",
            "Setting up libopengl-dev:amd64 (1.4.0-1) ...\n",
            "Setting up libgl-dev:amd64 (1.4.0-1) ...\n",
            "Setting up libegl-dev:amd64 (1.4.0-1) ...\n",
            "Setting up libgles-dev:amd64 (1.4.0-1) ...\n",
            "Setting up libglvnd-dev:amd64 (1.4.0-1) ...\n",
            "Setting up libgl1-mesa-dev:amd64 (23.2.1-1ubuntu3.1~22.04.3) ...\n",
            "Processing triggers for libc-bin (2.35-0ubuntu3.8) ...\n",
            "/sbin/ldconfig.real: /usr/local/lib/libur_adapter_opencl.so.0 is not a symbolic link\n",
            "\n",
            "/sbin/ldconfig.real: /usr/local/lib/libur_adapter_level_zero.so.0 is not a symbolic link\n",
            "\n",
            "/sbin/ldconfig.real: /usr/local/lib/libumf.so.0 is not a symbolic link\n",
            "\n",
            "/sbin/ldconfig.real: /usr/local/lib/libtbbbind_2_5.so.3 is not a symbolic link\n",
            "\n",
            "/sbin/ldconfig.real: /usr/local/lib/libtcm_debug.so.1 is not a symbolic link\n",
            "\n",
            "/sbin/ldconfig.real: /usr/local/lib/libtbbbind.so.3 is not a symbolic link\n",
            "\n",
            "/sbin/ldconfig.real: /usr/local/lib/libhwloc.so.15 is not a symbolic link\n",
            "\n",
            "/sbin/ldconfig.real: /usr/local/lib/libtbbbind_2_0.so.3 is not a symbolic link\n",
            "\n",
            "/sbin/ldconfig.real: /usr/local/lib/libtbb.so.12 is not a symbolic link\n",
            "\n",
            "/sbin/ldconfig.real: /usr/local/lib/libtbbmalloc_proxy.so.2 is not a symbolic link\n",
            "\n",
            "/sbin/ldconfig.real: /usr/local/lib/libtcm.so.1 is not a symbolic link\n",
            "\n",
            "/sbin/ldconfig.real: /usr/local/lib/libur_loader.so.0 is not a symbolic link\n",
            "\n",
            "/sbin/ldconfig.real: /usr/local/lib/libtbbmalloc.so.2 is not a symbolic link\n",
            "\n"
          ]
        }
      ],
      "source": [
        "!apt -qq update\n",
        "!apt -qq install -y libgl1-mesa-dev libglfw3"
      ]
    },
    {
      "cell_type": "code",
      "execution_count": 3,
      "metadata": {
        "colab": {
          "base_uri": "https://localhost:8080/"
        },
        "id": "dIMoBUbyoa5n",
        "outputId": "43e4dd2f-0721-4937-92f3-34da8bd0d99f"
      },
      "outputs": [
        {
          "output_type": "stream",
          "name": "stdout",
          "text": [
            "downloading uv 0.6.12 x86_64-unknown-linux-gnu\n",
            "no checksums to verify\n",
            "installing to /usr/local/bin\n",
            "  uv\n",
            "  uvx\n",
            "everything's installed!\n"
          ]
        }
      ],
      "source": [
        "!curl -LsSf https://astral.sh/uv/install.sh | sh"
      ]
    },
    {
      "cell_type": "code",
      "execution_count": 4,
      "metadata": {
        "id": "OSbE1DIlvwX1",
        "colab": {
          "base_uri": "https://localhost:8080/"
        },
        "outputId": "2181fbb0-d95c-4a1b-9c69-473f27a4ab99"
      },
      "outputs": [
        {
          "output_type": "stream",
          "name": "stdout",
          "text": [
            "env: MUJOCO_GL=egl\n"
          ]
        }
      ],
      "source": [
        "!uv pip install -q --no-cache-dir --system lightning pyvirtualdisplay\n",
        "!uv pip install -q --no-cache-dir --system mujoco gymnasium[mujoco]\n",
        "!uv pip install -q --no-cache-dir --system pybullet moviepy parapara-anime\n",
        "!uv pip install -q --no-cache-dir --system \"ipython>=8.0.0\"\n",
        "%env MUJOCO_GL=egl"
      ]
    },
    {
      "cell_type": "markdown",
      "metadata": {
        "id": "FqtfpcXsohZ_"
      },
      "source": [
        "### **Import**"
      ]
    },
    {
      "cell_type": "code",
      "execution_count": 5,
      "metadata": {
        "id": "BfM8LCqEohfs",
        "colab": {
          "base_uri": "https://localhost:8080/"
        },
        "outputId": "a1438732-7edb-40f8-c5a7-778b08d14dba"
      },
      "outputs": [
        {
          "output_type": "stream",
          "name": "stderr",
          "text": [
            "WARNING:py.warnings:/usr/local/lib/python3.11/dist-packages/moviepy/video/io/sliders.py:61: SyntaxWarning: \"is\" with a literal. Did you mean \"==\"?\n",
            "  if event.key is 'enter':\n",
            "\n",
            "WARNING:py.warnings:/usr/local/lib/python3.11/dist-packages/gym/envs/registration.py:440: UserWarning: \u001b[33mWARN: The `registry.env_specs` property along with `EnvSpecTree` is deprecated. Please use `registry` directly as a dictionary instead.\u001b[0m\n",
            "  logger.warn(\n",
            "\n"
          ]
        }
      ],
      "source": [
        "import lightning as L\n",
        "from lightning.pytorch import Trainer, seed_everything\n",
        "from lightning.pytorch.callbacks import ModelCheckpoint\n",
        "\n",
        "import gymnasium as gym\n",
        "\n",
        "from google.colab.patches import cv2_imshow\n",
        "\n",
        "from collections import deque\n",
        "import matplotlib.animation\n",
        "from IPython.display import Image, HTML\n",
        "from moviepy.editor import VideoFileClip\n",
        "\n",
        "import pybullet_envs\n",
        "import pybullet as p\n",
        "from base64 import b64encode\n",
        "import glob\n",
        "\n",
        "import torch\n",
        "import torch.nn as nn\n",
        "import torch.optim as optim\n",
        "import torch.utils.data as data\n",
        "import torch.nn.functional as F\n",
        "\n",
        "from torch.distributions import Normal\n",
        "\n",
        "import os\n",
        "import cv2\n",
        "import numpy as np\n",
        "import matplotlib.pyplot as plt\n",
        "\n",
        "import random\n",
        "import warnings\n",
        "\n",
        "warnings.filterwarnings(\"ignore\")\n",
        "\n",
        "%matplotlib inline\n",
        "plt.rcParams['axes.facecolor'] = 'lightgray'\n",
        "plt.rcParams['mathtext.fontset'] = 'cm'\n",
        "plt.rcParams['font.family'] = 'STIXGeneral'"
      ]
    },
    {
      "cell_type": "markdown",
      "metadata": {
        "id": "pCB9p4a_ohj1"
      },
      "source": [
        "## **Configuration**"
      ]
    },
    {
      "cell_type": "code",
      "execution_count": 6,
      "metadata": {
        "id": "EBZVz_QhohoT"
      },
      "outputs": [],
      "source": [
        "ACTION_SPACE = [\n",
        "    0, # Torque applied on the back thigh rotor\n",
        "    1, # Torque applied on the back shin rotor\n",
        "    2, # Torque applied on the back foot rotor\n",
        "    3, # Torque applied on the front thigh rotor\n",
        "    4, # Torque applied on the front shin rotor\n",
        "    5, # Torque applied on the front foot rotor\n",
        "]\n",
        "\n",
        "\n",
        "# 0: z-coordinate of the front tip\n",
        "# 1: angle of the front tip\n",
        "# 2: angle of the back thigh\n",
        "# 3: angle of the back shin\n",
        "# 4: angle of the back foot\n",
        "# 5: angle of the front thigh\n",
        "# 6: angle of the front shin\n",
        "# 7: angle of the front foot\n",
        "# 8: velocity of the x-coordinate of front tip\n",
        "# 9: velocity of the z-coordinate of front tip\n",
        "# 10: angular velocity of the front tip\n",
        "# 11: angular velocity of the back thigh\n",
        "# 12: angular velocity of the back shin\n",
        "# 13: angular velocity of the back foot\n",
        "# 14: angular velocity of the front thigh\n",
        "# 15: angular velocity of the front shin\n",
        "# 16: angular velocity of the front foot\n",
        "OBSERVATION_SPACE = 17\n",
        "\n",
        "\n",
        "LR = 3e-4\n",
        "LAMBDA = 0.95\n",
        "GAMMA = 0.99\n",
        "CLIP_EPSILON = 0.2\n",
        "C1 = 0.5   # Value loss coefficient\n",
        "C2 = 1e-2  # Entropy coefficient\n",
        "BATCH_SIZE = 64\n",
        "HIDDEN_DIM = 128\n",
        "NUM_EPISODE = 360\n",
        "MAXIMUM_STEP = 720\n",
        "NUM_UPDATE_PER_EPISODE = 24\n",
        "EPSILON = 1e-8\n",
        "\n",
        "\n",
        "DEVICE = torch.device(\"cuda\" if torch.cuda.is_available() else \"cpu\")\n",
        "\n",
        "\n",
        "CheetahAgent = None\n",
        "TotalReward = 0\n",
        "\n",
        "ENVIRONMENT_NAME = \"HalfCheetah-v5\""
      ]
    },
    {
      "cell_type": "code",
      "execution_count": 7,
      "metadata": {
        "id": "JuzrQiL04Rk7"
      },
      "outputs": [],
      "source": [
        "os.makedirs(\"experiment\", exist_ok=True)\n",
        "os.makedirs(\"experiment/training\", exist_ok=True)\n",
        "os.makedirs(\"experiment/dataset\", exist_ok=True)\n",
        "os.makedirs(\"experiment/model\", exist_ok=True)\n",
        "EXPERIMENT_DIR = \"experiment/\"\n",
        "\n",
        "\n",
        "BEST_MODEL_PATH = os.path.join(\n",
        "    EXPERIMENT_DIR,\n",
        "    \"model\",\n",
        "    \"Cheetah_best.ckpt\",\n",
        ")"
      ]
    },
    {
      "cell_type": "code",
      "execution_count": 8,
      "metadata": {
        "id": "tHiXAhCb4ZaS"
      },
      "outputs": [],
      "source": [
        "METRIC_TO_MONITOR = \"reward\"\n",
        "METRIC_MODE = \"max\""
      ]
    },
    {
      "cell_type": "code",
      "execution_count": 9,
      "metadata": {
        "colab": {
          "base_uri": "https://localhost:8080/"
        },
        "id": "AGUNe-lo4Z-L",
        "outputId": "e6fa0864-19f7-4752-ac06-7d398da74857"
      },
      "outputs": [
        {
          "output_type": "stream",
          "name": "stdout",
          "text": [
            "Random seed: 243002969\n"
          ]
        }
      ],
      "source": [
        "SEED = int(np.random.randint(2147483647))\n",
        "print(f\"Random seed: {SEED}\")"
      ]
    },
    {
      "cell_type": "markdown",
      "metadata": {
        "id": "YiXIRkk0ohsW"
      },
      "source": [
        "## **Dataset**"
      ]
    },
    {
      "cell_type": "code",
      "execution_count": 10,
      "metadata": {
        "id": "NXM7jQW_ohw2"
      },
      "outputs": [],
      "source": [
        "class RLDataset(data.Dataset):\n",
        "    def __init__(self, rl_agent):\n",
        "        super().__init__()\n",
        "\n",
        "        self.env = gym.make(ENVIRONMENT_NAME)\n",
        "        self.rl_agent = rl_agent\n",
        "\n",
        "    def __len__(self):\n",
        "        return 1\n",
        "\n",
        "    def __getitem__(self, idx):\n",
        "        global TotalReward\n",
        "\n",
        "        TotalReward = 0\n",
        "\n",
        "        states = list()\n",
        "        actions = list()\n",
        "        rewards = list()\n",
        "        dones = list()\n",
        "        log_probs = list()\n",
        "        values = list()\n",
        "        next_values = list()\n",
        "\n",
        "        obs, _ = self.env.reset()\n",
        "\n",
        "        with torch.no_grad():\n",
        "            for step in range(MAXIMUM_STEP):\n",
        "                state = torch.from_numpy(obs).float().unsqueeze(0).to(DEVICE)\n",
        "                dist = self.rl_agent.policy_network(state)\n",
        "                action = dist.sample().squeeze(0)\n",
        "                log_prob = dist.log_prob(action).sum(\n",
        "                    dim=-1, keepdim=True\n",
        "                ).squeeze(0)\n",
        "                value = self.rl_agent.value_network(state).squeeze(0)\n",
        "\n",
        "                next_obs, reward, terminated, truncated, _ = self.env.step(\n",
        "                    action.detach().cpu().numpy()\n",
        "                )\n",
        "                done = int(terminated or truncated)\n",
        "\n",
        "                states.append(state.squeeze(0))\n",
        "                actions.append(action)\n",
        "                log_probs.append(log_prob)\n",
        "                values.append(value)\n",
        "                rewards.append(torch.tensor(reward).unsqueeze(0))\n",
        "                dones.append(torch.tensor(done).unsqueeze(0))\n",
        "\n",
        "                obs = next_obs\n",
        "                TotalReward += reward\n",
        "\n",
        "                if done:\n",
        "                    break\n",
        "\n",
        "            next_value = self.rl_agent.value_network(\n",
        "                torch.from_numpy(obs).float().unsqueeze(0).to(DEVICE)\n",
        "            ).squeeze(0)\n",
        "            values.append(next_value)\n",
        "\n",
        "\n",
        "        states = torch.stack(states)\n",
        "        actions = torch.stack(actions)\n",
        "        log_probs = torch.stack(log_probs)\n",
        "        values = torch.stack(values)\n",
        "        rewards = torch.stack(rewards)\n",
        "        dones = torch.stack(dones)\n",
        "\n",
        "        return states, actions, log_probs, values, rewards, dones"
      ]
    },
    {
      "cell_type": "code",
      "execution_count": 11,
      "metadata": {
        "id": "187sLjgVCEQh"
      },
      "outputs": [],
      "source": [
        "class RLDataModule(L.LightningDataModule):\n",
        "    def __init__(self):\n",
        "        super().__init__()\n",
        "\n",
        "        self.dataset = RLDataset\n",
        "        self.rl_agent = None\n",
        "\n",
        "    def prepare_data(self):\n",
        "        global CheetahAgent\n",
        "        self.rl_agent = CheetahAgent\n",
        "\n",
        "    def setup(self, stage=None):\n",
        "        if stage == \"fit\" or stage is None:\n",
        "            self.train_dataset = self.dataset(rl_agent=self.rl_agent)\n",
        "\n",
        "    def train_dataloader(self):\n",
        "        return data.DataLoader(self.train_dataset, batch_size=BATCH_SIZE)"
      ]
    },
    {
      "cell_type": "markdown",
      "metadata": {
        "id": "NvZltS6roh1S"
      },
      "source": [
        "## **Model**"
      ]
    },
    {
      "cell_type": "markdown",
      "metadata": {
        "id": "b3YEXWpA0tdv"
      },
      "source": [
        "### **Policy Network (Actor)**"
      ]
    },
    {
      "cell_type": "code",
      "execution_count": 12,
      "metadata": {
        "id": "hr3-XL840tnH"
      },
      "outputs": [],
      "source": [
        "class PolicyNetwork(nn.Module):\n",
        "    def __init__(self):\n",
        "        super().__init__()\n",
        "        self.net = nn.Sequential(\n",
        "            nn.Linear(OBSERVATION_SPACE, HIDDEN_DIM),\n",
        "            nn.Tanh(),\n",
        "            nn.Linear(HIDDEN_DIM, HIDDEN_DIM),\n",
        "            nn.Tanh(),\n",
        "            nn.Linear(HIDDEN_DIM, len(ACTION_SPACE))\n",
        "        )\n",
        "        self.log_std = nn.Parameter(torch.zeros(len(ACTION_SPACE)))\n",
        "\n",
        "    def forward(self, state):\n",
        "        mean = self.net(state)\n",
        "        std = torch.exp(self.log_std)\n",
        "        dist = Normal(mean, std)\n",
        "        return dist"
      ]
    },
    {
      "cell_type": "markdown",
      "metadata": {
        "id": "MlXxrv1W0wAd"
      },
      "source": [
        "### **Value Network (Critic)**"
      ]
    },
    {
      "cell_type": "code",
      "execution_count": 13,
      "metadata": {
        "id": "-UT04u0xoh5v"
      },
      "outputs": [],
      "source": [
        "class ValueNetwork(nn.Module):\n",
        "    def __init__(self):\n",
        "        super().__init__()\n",
        "        self.net = nn.Sequential(\n",
        "            nn.Linear(OBSERVATION_SPACE, HIDDEN_DIM),\n",
        "            nn.Tanh(),\n",
        "            nn.Linear(HIDDEN_DIM, HIDDEN_DIM),\n",
        "            nn.Tanh(),\n",
        "            nn.Linear(HIDDEN_DIM, 1)\n",
        "        )\n",
        "\n",
        "    def forward(self, state):\n",
        "        return self.net(state)"
      ]
    },
    {
      "cell_type": "markdown",
      "metadata": {
        "id": "Sx65vEnM0wsi"
      },
      "source": [
        "### **Agent**"
      ]
    },
    {
      "cell_type": "code",
      "execution_count": 14,
      "metadata": {
        "id": "y0mbI84o0w7n"
      },
      "outputs": [],
      "source": [
        "class AgentModule(L.LightningModule):\n",
        "    def __init__(self):\n",
        "        super().__init__()\n",
        "\n",
        "        self.policy_network = PolicyNetwork().to(DEVICE)\n",
        "        self.value_network = ValueNetwork().to(DEVICE)\n",
        "\n",
        "        self.automatic_optimization = False\n",
        "\n",
        "        self.reward = list()\n",
        "\n",
        "    def forward(self, state):\n",
        "        # Deterministic policy for inference\n",
        "        assert not self.training, \"Inference only!\"\n",
        "        return self.policy_network(state).mean.detach().cpu().numpy()\n",
        "\n",
        "    def compute_gae(self, rewards, values, dones):\n",
        "        \"\"\"\n",
        "        Compute advantages using Generalized Advantage Estimation (GAE)\n",
        "        \"\"\"\n",
        "        advantages = list()\n",
        "        gae = 0\n",
        "\n",
        "        for t in reversed(range(len(rewards))):\n",
        "            delta = (\n",
        "                rewards[t]\n",
        "                + GAMMA * values[t + 1] * (1 - dones[t])\n",
        "                - values[t]\n",
        "            )\n",
        "            gae = delta + GAMMA * LAMBDA * (1 - dones[t]) * gae\n",
        "            advantages.append(gae)\n",
        "\n",
        "        advantages = torch.stack(advantages[::-1])\n",
        "        returns = advantages + values[:-1]\n",
        "\n",
        "        return advantages, returns\n",
        "\n",
        "    def training_step(self, batch, batch_nb):\n",
        "        states, actions, log_probs, values, rewards, dones = batch\n",
        "\n",
        "        states = states.squeeze(0)\n",
        "        actions = actions.squeeze(0)\n",
        "        log_probs = log_probs.squeeze(0)\n",
        "        values = values.squeeze(0)\n",
        "        rewards = rewards.squeeze(0)\n",
        "        dones = dones.squeeze(0)\n",
        "\n",
        "        advantages, returns = self.compute_gae(rewards, values, dones)\n",
        "        advantages = (\n",
        "            advantages - advantages.mean()\n",
        "        ) / (advantages.std() + EPSILON)\n",
        "\n",
        "        for _ in range(NUM_UPDATE_PER_EPISODE):\n",
        "            indices = np.random.permutation((states).shape[0])\n",
        "            for idx in range(0, (states).shape[0], BATCH_SIZE):\n",
        "                batch_indices = indices[idx:idx + BATCH_SIZE]\n",
        "                states_batch = states[batch_indices]\n",
        "                actions_batch = actions[batch_indices]\n",
        "                log_probs_batch = log_probs[batch_indices]\n",
        "                advantages_batch = advantages[batch_indices]\n",
        "                returns_batch = returns[batch_indices]\n",
        "\n",
        "                # Policy update\n",
        "                dist = self.policy_network(states_batch)\n",
        "                new_log_probs_batch = dist.log_prob(actions_batch).sum(\n",
        "                    dim=-1, keepdim=True\n",
        "                )\n",
        "                entropy = dist.entropy().mean()\n",
        "                ratio = torch.exp(\n",
        "                    new_log_probs_batch - log_probs_batch\n",
        "                )\n",
        "                surr1 = ratio * advantages_batch\n",
        "                surr2 = torch.clamp(\n",
        "                    ratio,\n",
        "                    1 - CLIP_EPSILON,\n",
        "                    1 + CLIP_EPSILON\n",
        "                ) * advantages_batch\n",
        "                policy_loss = -torch.min(surr1, surr2).mean()\n",
        "                # Maximizing entropy encourages exploration\n",
        "                policy_total_loss = policy_loss - C2 * entropy\n",
        "\n",
        "                # Value update\n",
        "                new_values_batch = self.value_network(states_batch)\n",
        "                value_loss = ((new_values_batch - returns_batch) ** 2).mean()\n",
        "                value_total_loss = C1 * value_loss\n",
        "\n",
        "                # Optimize\n",
        "                optimizer = self.optimizers()[0]\n",
        "                optimizer.zero_grad()\n",
        "                self.manual_backward(policy_total_loss)\n",
        "                optimizer.step()\n",
        "\n",
        "                optimizer = self.optimizers()[1]\n",
        "                optimizer.zero_grad()\n",
        "                self.manual_backward(value_total_loss)\n",
        "                optimizer.step()\n",
        "\n",
        "        self.log(\"reward\", TotalReward, prog_bar=True)\n",
        "        self.reward.append(TotalReward)\n",
        "\n",
        "    def configure_optimizers(self):\n",
        "        optimizer_policy = optim.Adam(self.policy_network.parameters(), lr=LR)\n",
        "        optimizer_value = optim.Adam(self.value_network.parameters(), lr=LR)\n",
        "        return [\n",
        "            optimizer_policy,\n",
        "            optimizer_value,\n",
        "        ]\n",
        "\n",
        "    def reward_curve(self):\n",
        "        filename = f\"{EXPERIMENT_DIR}reward_plot.png\"\n",
        "        plt.plot(self.reward, color=\"g\")\n",
        "        plt.title(\"Reward Curves\")\n",
        "        plt.xlabel(\"Episode\")\n",
        "        plt.ylabel(\"Reward\")\n",
        "        plt.grid()\n",
        "        plt.savefig(filename)\n",
        "        plt.clf()\n",
        "        img = cv2.imread(filename)\n",
        "        cv2_imshow(img)"
      ]
    },
    {
      "cell_type": "markdown",
      "metadata": {
        "id": "rBCTLpNgoh-o"
      },
      "source": [
        "## **Training**"
      ]
    },
    {
      "cell_type": "code",
      "execution_count": 15,
      "metadata": {
        "colab": {
          "base_uri": "https://localhost:8080/",
          "height": 674,
          "referenced_widgets": [
            "3409ca36888c467bbc4a15045379dd72",
            "8a39f83358234cb48192a1eb8fff0e1d",
            "3576ca5245af449192465039ff4e23ef",
            "f00f0dad6cd04469b0e23f3b0fad52f6",
            "9151ddb878614f79a92da976610697ba",
            "fd7d7e351b81455c925afed5216d78ab",
            "6f4afbb559334371adcff939803d03a0",
            "1937759c67a64f71a21a095149c88e31",
            "37c3f270c7ab432b9075b8481aa88a3e",
            "f95dcda43bda4033981e8a74de1eb672",
            "823e17acddde41eab83caac2d258f79f"
          ]
        },
        "id": "bopC9L4VoiBr",
        "outputId": "70aa6b23-bee7-4697-d5db-6298a8bf8b6f"
      },
      "outputs": [
        {
          "output_type": "stream",
          "name": "stderr",
          "text": [
            "INFO: Seed set to 243002969\n",
            "INFO:lightning.fabric.utilities.seed:Seed set to 243002969\n",
            "INFO: GPU available: True (cuda), used: True\n",
            "INFO:lightning.pytorch.utilities.rank_zero:GPU available: True (cuda), used: True\n",
            "INFO: TPU available: False, using: 0 TPU cores\n",
            "INFO:lightning.pytorch.utilities.rank_zero:TPU available: False, using: 0 TPU cores\n",
            "INFO: HPU available: False, using: 0 HPUs\n",
            "INFO:lightning.pytorch.utilities.rank_zero:HPU available: False, using: 0 HPUs\n",
            "INFO: LOCAL_RANK: 0 - CUDA_VISIBLE_DEVICES: [0]\n",
            "INFO:lightning.pytorch.accelerators.cuda:LOCAL_RANK: 0 - CUDA_VISIBLE_DEVICES: [0]\n",
            "INFO: \n",
            "  | Name           | Type          | Params | Mode \n",
            "---------------------------------------------------------\n",
            "0 | policy_network | PolicyNetwork | 19.6 K | train\n",
            "1 | value_network  | ValueNetwork  | 18.9 K | train\n",
            "---------------------------------------------------------\n",
            "38.5 K    Trainable params\n",
            "0         Non-trainable params\n",
            "38.5 K    Total params\n",
            "0.154     Total estimated model params size (MB)\n",
            "14        Modules in train mode\n",
            "0         Modules in eval mode\n",
            "INFO:lightning.pytorch.callbacks.model_summary:\n",
            "  | Name           | Type          | Params | Mode \n",
            "---------------------------------------------------------\n",
            "0 | policy_network | PolicyNetwork | 19.6 K | train\n",
            "1 | value_network  | ValueNetwork  | 18.9 K | train\n",
            "---------------------------------------------------------\n",
            "38.5 K    Trainable params\n",
            "0         Non-trainable params\n",
            "38.5 K    Total params\n",
            "0.154     Total estimated model params size (MB)\n",
            "14        Modules in train mode\n",
            "0         Modules in eval mode\n"
          ]
        },
        {
          "output_type": "display_data",
          "data": {
            "text/plain": [
              "Training: |          | 0/? [00:00<?, ?it/s]"
            ],
            "application/vnd.jupyter.widget-view+json": {
              "version_major": 2,
              "version_minor": 0,
              "model_id": "3409ca36888c467bbc4a15045379dd72"
            }
          },
          "metadata": {}
        },
        {
          "output_type": "stream",
          "name": "stderr",
          "text": [
            "INFO: `Trainer.fit` stopped: `max_epochs=360` reached.\n",
            "INFO:lightning.pytorch.utilities.rank_zero:`Trainer.fit` stopped: `max_epochs=360` reached.\n"
          ]
        }
      ],
      "source": [
        "trainer = None\n",
        "\n",
        "def _train_loop():\n",
        "    global CheetahAgent, trainer\n",
        "\n",
        "    seed_everything(SEED, workers=True)\n",
        "\n",
        "    CheetahAgent = AgentModule()\n",
        "\n",
        "    callbacks = list()\n",
        "\n",
        "    checkpoint = ModelCheckpoint(\n",
        "        monitor=METRIC_TO_MONITOR,\n",
        "        dirpath=os.path.join(EXPERIMENT_DIR, \"model\"),\n",
        "        mode=METRIC_MODE,\n",
        "        filename=\"Cheetah_best\",\n",
        "    )\n",
        "    callbacks.append(checkpoint)\n",
        "\n",
        "    if os.path.exists(BEST_MODEL_PATH):\n",
        "        ckpt_path = BEST_MODEL_PATH\n",
        "    else:\n",
        "        ckpt_path = None\n",
        "\n",
        "    trainer = Trainer(\n",
        "        accelerator=\"auto\",\n",
        "        devices=1,\n",
        "        max_epochs=NUM_EPISODE,\n",
        "        logger=False,\n",
        "        callbacks=callbacks,\n",
        "        log_every_n_steps=5,\n",
        "    )\n",
        "\n",
        "    trainer.fit(CheetahAgent, ckpt_path=ckpt_path, datamodule=RLDataModule())\n",
        "\n",
        "_train_loop()"
      ]
    },
    {
      "cell_type": "code",
      "execution_count": 16,
      "metadata": {
        "colab": {
          "base_uri": "https://localhost:8080/",
          "height": 514
        },
        "id": "_9L5fLlPC7hJ",
        "outputId": "1d9d8c99-7ec3-44df-aad3-2de2116dddc1"
      },
      "outputs": [
        {
          "output_type": "display_data",
          "data": {
            "text/plain": [
              "<PIL.Image.Image image mode=RGB size=640x480>"
            ],
            "image/png": "[encoded data removed]",
            "image/jpeg": "[encoded data removed]"
          },
          "metadata": {}
        },
        {
          "output_type": "display_data",
          "data": {
            "text/plain": [
              "<Figure size 640x480 with 0 Axes>"
            ]
          },
          "metadata": {}
        }
      ],
      "source": [
        "trainer.strategy._lightning_module.reward_curve()"
      ]
    },
    {
      "cell_type": "markdown",
      "metadata": {
        "id": "9advURQFoiFt"
      },
      "source": [
        "## **Inference**"
      ]
    },
    {
      "cell_type": "code",
      "source": [
        "def animate_agent(\n",
        "    env, agent, output, dir=EXPERIMENT_DIR, max_steps=MAXIMUM_STEP\n",
        "):\n",
        "    obs, _ = env.reset(seed=SEED)\n",
        "    for step in range(max_steps):\n",
        "        obs = torch.tensor(obs).float().unsqueeze(0).to(DEVICE)\n",
        "        action = agent(obs).squeeze(0)\n",
        "        obs, _, terminated, truncated, _ = env.step(action)\n",
        "\n",
        "        done = terminated or truncated\n",
        "        if done:\n",
        "            break\n",
        "\n",
        "    env.close()\n",
        "    del env\n",
        "\n",
        "    path = glob.glob(os.path.join(dir, \"*.mp4\"))[0]\n",
        "    if output == \"html\":\n",
        "        mp4 = open(path, \"rb\").read()\n",
        "        url = \"data:video/mp4;base64,\" + b64encode(mp4).decode()\n",
        "        return HTML(\n",
        "            \"\"\"<video width=400 controls><source src=\"%s\" type=\"video/mp4\"></video>\"\"\" % url\n",
        "        )\n",
        "    elif output == \"gif\":\n",
        "        filename = f\"{EXPERIMENT_DIR}inference.gif\"\n",
        "        videoClip = VideoFileClip(path)\n",
        "        videoClip.write_gif(filename)\n",
        "        with open(filename, \"rb\") as f:\n",
        "            display(Image(data=f.read(), format=\"gif\"))\n",
        "    else:\n",
        "        raise ValueError(\"Invalid output type\")"
      ],
      "metadata": {
        "id": "3p8dMJMmzwej"
      },
      "execution_count": 17,
      "outputs": []
    },
    {
      "cell_type": "code",
      "execution_count": 18,
      "metadata": {
        "id": "DdQSF0-EC8EZ",
        "colab": {
          "base_uri": "https://localhost:8080/"
        },
        "outputId": "384a4008-5e3b-4d47-dd41-8ced6662ba41"
      },
      "outputs": [
        {
          "output_type": "execute_result",
          "data": {
            "text/plain": [
              "AgentModule(\n",
              "  (policy_network): PolicyNetwork(\n",
              "    (net): Sequential(\n",
              "      (0): Linear(in_features=17, out_features=128, bias=True)\n",
              "      (1): Tanh()\n",
              "      (2): Linear(in_features=128, out_features=128, bias=True)\n",
              "      (3): Tanh()\n",
              "      (4): Linear(in_features=128, out_features=6, bias=True)\n",
              "    )\n",
              "  )\n",
              "  (value_network): ValueNetwork(\n",
              "    (net): Sequential(\n",
              "      (0): Linear(in_features=17, out_features=128, bias=True)\n",
              "      (1): Tanh()\n",
              "      (2): Linear(in_features=128, out_features=128, bias=True)\n",
              "      (3): Tanh()\n",
              "      (4): Linear(in_features=128, out_features=1, bias=True)\n",
              "    )\n",
              "  )\n",
              ")"
            ]
          },
          "metadata": {},
          "execution_count": 18
        }
      ],
      "source": [
        "p.connect(p.DIRECT)\n",
        "\n",
        "CheetahAgent = AgentModule.load_from_checkpoint(BEST_MODEL_PATH)\n",
        "if DEVICE == \"cuda\":\n",
        "    CheetahAgent = CheetahAgent.cuda()\n",
        "CheetahAgent.eval()"
      ]
    },
    {
      "cell_type": "code",
      "execution_count": null,
      "metadata": {
        "id": "xT_zEoe5C8Ii"
      },
      "outputs": [],
      "source": [
        "CheetahEnv = gym.make(ENVIRONMENT_NAME, render_mode=\"rgb_array\")\n",
        "CheetahEnv = gym.wrappers.RecordVideo(\n",
        "    CheetahEnv,\n",
        "    video_folder=EXPERIMENT_DIR,\n",
        "    episode_trigger=lambda t: t % 10 == 0,\n",
        "    disable_logger=True,\n",
        ")\n",
        "animate_agent(CheetahEnv, CheetahAgent, output=\"html\")"
      ]
    },
    {
      "cell_type": "code",
      "execution_count": null,
      "metadata": {
        "id": "jXqLKxGGC8Kn"
      },
      "outputs": [],
      "source": [
        "CheetahEnv = gym.make(ENVIRONMENT_NAME, render_mode=\"rgb_array\")\n",
        "CheetahEnv = gym.wrappers.RecordVideo(\n",
        "    CheetahEnv,\n",
        "    video_folder=EXPERIMENT_DIR,\n",
        "    episode_trigger=lambda t: t % 10 == 0,\n",
        "    disable_logger=True,\n",
        ")\n",
        "animate_agent(CheetahEnv, CheetahAgent, output=\"gif\")"
      ]
    }
  ],
  "metadata": {
    "accelerator": "GPU",
    "colab": {
      "collapsed_sections": [
        "h7VKvgh1ojpm",
        "KnC4ATcuoj-R",
        "FqtfpcXsohZ_",
        "pCB9p4a_ohj1",
        "YiXIRkk0ohsW",
        "NvZltS6roh1S",
        "b3YEXWpA0tdv",
        "MlXxrv1W0wAd",
        "Sx65vEnM0wsi",
        "rBCTLpNgoh-o",
        "9advURQFoiFt"
      ],
      "gpuType": "T4",
      "provenance": []
    },
    "kernelspec": {
      "display_name": "Python 3",
      "name": "python3"
    },
    "language_info": {
      "name": "python"
    },
    "widgets": {
      "application/vnd.jupyter.widget-state+json": {
        "3409ca36888c467bbc4a15045379dd72": {
          "model_module": "@jupyter-widgets/controls",
          "model_name": "HBoxModel",
          "model_module_version": "1.5.0",
          "state": {
            "_dom_classes": [],
            "_model_module": "@jupyter-widgets/controls",
            "_model_module_version": "1.5.0",
            "_model_name": "HBoxModel",
            "_view_count": null,
            "_view_module": "@jupyter-widgets/controls",
            "_view_module_version": "1.5.0",
            "_view_name": "HBoxView",
            "box_style": "",
            "children": [
              "IPY_MODEL_8a39f83358234cb48192a1eb8fff0e1d",
              "IPY_MODEL_3576ca5245af449192465039ff4e23ef",
              "IPY_MODEL_f00f0dad6cd04469b0e23f3b0fad52f6"
            ],
            "layout": "IPY_MODEL_9151ddb878614f79a92da976610697ba"
          }
        },
        "8a39f83358234cb48192a1eb8fff0e1d": {
          "model_module": "@jupyter-widgets/controls",
          "model_name": "HTMLModel",
          "model_module_version": "1.5.0",
          "state": {
            "_dom_classes": [],
            "_model_module": "@jupyter-widgets/controls",
            "_model_module_version": "1.5.0",
            "_model_name": "HTMLModel",
            "_view_count": null,
            "_view_module": "@jupyter-widgets/controls",
            "_view_module_version": "1.5.0",
            "_view_name": "HTMLView",
            "description": "",
            "description_tooltip": null,
            "layout": "IPY_MODEL_fd7d7e351b81455c925afed5216d78ab",
            "placeholder": "​",
            "style": "IPY_MODEL_6f4afbb559334371adcff939803d03a0",
            "value": "Epoch 359: 100%"
          }
        },
        "3576ca5245af449192465039ff4e23ef": {
          "model_module": "@jupyter-widgets/controls",
          "model_name": "FloatProgressModel",
          "model_module_version": "1.5.0",
          "state": {
            "_dom_classes": [],
            "_model_module": "@jupyter-widgets/controls",
            "_model_module_version": "1.5.0",
            "_model_name": "FloatProgressModel",
            "_view_count": null,
            "_view_module": "@jupyter-widgets/controls",
            "_view_module_version": "1.5.0",
            "_view_name": "ProgressView",
            "bar_style": "success",
            "description": "",
            "description_tooltip": null,
            "layout": "IPY_MODEL_1937759c67a64f71a21a095149c88e31",
            "max": 1,
            "min": 0,
            "orientation": "horizontal",
            "style": "IPY_MODEL_37c3f270c7ab432b9075b8481aa88a3e",
            "value": 1
          }
        },
        "f00f0dad6cd04469b0e23f3b0fad52f6": {
          "model_module": "@jupyter-widgets/controls",
          "model_name": "HTMLModel",
          "model_module_version": "1.5.0",
          "state": {
            "_dom_classes": [],
            "_model_module": "@jupyter-widgets/controls",
            "_model_module_version": "1.5.0",
            "_model_name": "HTMLModel",
            "_view_count": null,
            "_view_module": "@jupyter-widgets/controls",
            "_view_module_version": "1.5.0",
            "_view_name": "HTMLView",
            "description": "",
            "description_tooltip": null,
            "layout": "IPY_MODEL_f95dcda43bda4033981e8a74de1eb672",
            "placeholder": "​",
            "style": "IPY_MODEL_823e17acddde41eab83caac2d258f79f",
            "value": " 1/1 [00:02&lt;00:00,  0.38it/s, reward=161.0]"
          }
        },
        "9151ddb878614f79a92da976610697ba": {
          "model_module": "@jupyter-widgets/base",
          "model_name": "LayoutModel",
          "model_module_version": "1.2.0",
          "state": {
            "_model_module": "@jupyter-widgets/base",
            "_model_module_version": "1.2.0",
            "_model_name": "LayoutModel",
            "_view_count": null,
            "_view_module": "@jupyter-widgets/base",
            "_view_module_version": "1.2.0",
            "_view_name": "LayoutView",
            "align_content": null,
            "align_items": null,
            "align_self": null,
            "border": null,
            "bottom": null,
            "display": "inline-flex",
            "flex": null,
            "flex_flow": "row wrap",
            "grid_area": null,
            "grid_auto_columns": null,
            "grid_auto_flow": null,
            "grid_auto_rows": null,
            "grid_column": null,
            "grid_gap": null,
            "grid_row": null,
            "grid_template_areas": null,
            "grid_template_columns": null,
            "grid_template_rows": null,
            "height": null,
            "justify_content": null,
            "justify_items": null,
            "left": null,
            "margin": null,
            "max_height": null,
            "max_width": null,
            "min_height": null,
            "min_width": null,
            "object_fit": null,
            "object_position": null,
            "order": null,
            "overflow": null,
            "overflow_x": null,
            "overflow_y": null,
            "padding": null,
            "right": null,
            "top": null,
            "visibility": null,
            "width": "100%"
          }
        },
        "fd7d7e351b81455c925afed5216d78ab": {
          "model_module": "@jupyter-widgets/base",
          "model_name": "LayoutModel",
          "model_module_version": "1.2.0",
          "state": {
            "_model_module": "@jupyter-widgets/base",
            "_model_module_version": "1.2.0",
            "_model_name": "LayoutModel",
            "_view_count": null,
            "_view_module": "@jupyter-widgets/base",
            "_view_module_version": "1.2.0",
            "_view_name": "LayoutView",
            "align_content": null,
            "align_items": null,
            "align_self": null,
            "border": null,
            "bottom": null,
            "display": null,
            "flex": null,
            "flex_flow": null,
            "grid_area": null,
            "grid_auto_columns": null,
            "grid_auto_flow": null,
            "grid_auto_rows": null,
            "grid_column": null,
            "grid_gap": null,
            "grid_row": null,
            "grid_template_areas": null,
            "grid_template_columns": null,
            "grid_template_rows": null,
            "height": null,
            "justify_content": null,
            "justify_items": null,
            "left": null,
            "margin": null,
            "max_height": null,
            "max_width": null,
            "min_height": null,
            "min_width": null,
            "object_fit": null,
            "object_position": null,
            "order": null,
            "overflow": null,
            "overflow_x": null,
            "overflow_y": null,
            "padding": null,
            "right": null,
            "top": null,
            "visibility": null,
            "width": null
          }
        },
        "6f4afbb559334371adcff939803d03a0": {
          "model_module": "@jupyter-widgets/controls",
          "model_name": "DescriptionStyleModel",
          "model_module_version": "1.5.0",
          "state": {
            "_model_module": "@jupyter-widgets/controls",
            "_model_module_version": "1.5.0",
            "_model_name": "DescriptionStyleModel",
            "_view_count": null,
            "_view_module": "@jupyter-widgets/base",
            "_view_module_version": "1.2.0",
            "_view_name": "StyleView",
            "description_width": ""
          }
        },
        "1937759c67a64f71a21a095149c88e31": {
          "model_module": "@jupyter-widgets/base",
          "model_name": "LayoutModel",
          "model_module_version": "1.2.0",
          "state": {
            "_model_module": "@jupyter-widgets/base",
            "_model_module_version": "1.2.0",
            "_model_name": "LayoutModel",
            "_view_count": null,
            "_view_module": "@jupyter-widgets/base",
            "_view_module_version": "1.2.0",
            "_view_name": "LayoutView",
            "align_content": null,
            "align_items": null,
            "align_self": null,
            "border": null,
            "bottom": null,
            "display": null,
            "flex": "2",
            "flex_flow": null,
            "grid_area": null,
            "grid_auto_columns": null,
            "grid_auto_flow": null,
            "grid_auto_rows": null,
            "grid_column": null,
            "grid_gap": null,
            "grid_row": null,
            "grid_template_areas": null,
            "grid_template_columns": null,
            "grid_template_rows": null,
            "height": null,
            "justify_content": null,
            "justify_items": null,
            "left": null,
            "margin": null,
            "max_height": null,
            "max_width": null,
            "min_height": null,
            "min_width": null,
            "object_fit": null,
            "object_position": null,
            "order": null,
            "overflow": null,
            "overflow_x": null,
            "overflow_y": null,
            "padding": null,
            "right": null,
            "top": null,
            "visibility": null,
            "width": null
          }
        },
        "37c3f270c7ab432b9075b8481aa88a3e": {
          "model_module": "@jupyter-widgets/controls",
          "model_name": "ProgressStyleModel",
          "model_module_version": "1.5.0",
          "state": {
            "_model_module": "@jupyter-widgets/controls",
            "_model_module_version": "1.5.0",
            "_model_name": "ProgressStyleModel",
            "_view_count": null,
            "_view_module": "@jupyter-widgets/base",
            "_view_module_version": "1.2.0",
            "_view_name": "StyleView",
            "bar_color": null,
            "description_width": ""
          }
        },
        "f95dcda43bda4033981e8a74de1eb672": {
          "model_module": "@jupyter-widgets/base",
          "model_name": "LayoutModel",
          "model_module_version": "1.2.0",
          "state": {
            "_model_module": "@jupyter-widgets/base",
            "_model_module_version": "1.2.0",
            "_model_name": "LayoutModel",
            "_view_count": null,
            "_view_module": "@jupyter-widgets/base",
            "_view_module_version": "1.2.0",
            "_view_name": "LayoutView",
            "align_content": null,
            "align_items": null,
            "align_self": null,
            "border": null,
            "bottom": null,
            "display": null,
            "flex": null,
            "flex_flow": null,
            "grid_area": null,
            "grid_auto_columns": null,
            "grid_auto_flow": null,
            "grid_auto_rows": null,
            "grid_column": null,
            "grid_gap": null,
            "grid_row": null,
            "grid_template_areas": null,
            "grid_template_columns": null,
            "grid_template_rows": null,
            "height": null,
            "justify_content": null,
            "justify_items": null,
            "left": null,
            "margin": null,
            "max_height": null,
            "max_width": null,
            "min_height": null,
            "min_width": null,
            "object_fit": null,
            "object_position": null,
            "order": null,
            "overflow": null,
            "overflow_x": null,
            "overflow_y": null,
            "padding": null,
            "right": null,
            "top": null,
            "visibility": null,
            "width": null
          }
        },
        "823e17acddde41eab83caac2d258f79f": {
          "model_module": "@jupyter-widgets/controls",
          "model_name": "DescriptionStyleModel",
          "model_module_version": "1.5.0",
          "state": {
            "_model_module": "@jupyter-widgets/controls",
            "_model_module_version": "1.5.0",
            "_model_name": "DescriptionStyleModel",
            "_view_count": null,
            "_view_module": "@jupyter-widgets/base",
            "_view_module_version": "1.2.0",
            "_view_name": "StyleView",
            "description_width": ""
          }
        }
      }
    }
  },
  "nbformat": 4,
  "nbformat_minor": 0
}
